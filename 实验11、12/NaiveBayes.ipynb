{
 "cells": [
  {
   "cell_type": "markdown",
   "metadata": {},
   "source": [
    "## 实验十一：实现朴素贝叶斯算法对adult数据集进行分类"
   ]
  },
  {
   "cell_type": "markdown",
   "metadata": {},
   "source": [
    "要求：完成probability函数"
   ]
  },
  {
   "cell_type": "code",
   "metadata": {
    "ExecuteTime": {
     "end_time": "2025-01-05T06:53:28.876877Z",
     "start_time": "2025-01-05T06:53:28.873991Z"
    }
   },
   "source": [
    "import numpy as np\n",
    "import pandas as pd\n",
    "from scipy.stats import norm"
   ],
   "outputs": [],
   "execution_count": 5
  },
  {
   "cell_type": "markdown",
   "metadata": {},
   "source": [
    "### 数据集准备"
   ]
  },
  {
   "cell_type": "code",
   "metadata": {
    "ExecuteTime": {
     "end_time": "2025-01-05T06:53:29.203081Z",
     "start_time": "2025-01-05T06:53:28.901822Z"
    }
   },
   "source": [
    "col_names = ['age', 'workclass', 'fnlwgt', 'education', 'education-num', 'marital-status', 'occupation', 'relationship', 'race', 'sex', 'capital-gain', 'capital-loss', 'hours-per-week', 'native-country', '50K']\n",
    "adult_data_df = pd.read_csv('adult.data', index_col=False, header=None, names=col_names, sep=', ', engine='python')\n",
    "\n",
    "adult_test_df = pd.read_csv('adult.test', skiprows=[0], index_col=False, header=None, names=col_names, sep=', ', engine='python')\n",
    "adult_test_df['50K'] = adult_test_df['50K'].map(lambda x: x[:-1])  # 去除行末的点"
   ],
   "outputs": [],
   "execution_count": 6
  },
  {
   "cell_type": "code",
   "metadata": {
    "ExecuteTime": {
     "end_time": "2025-01-05T06:53:29.215771Z",
     "start_time": "2025-01-05T06:53:29.204118Z"
    }
   },
   "source": [
    "adult_test_df.head()"
   ],
   "outputs": [
    {
     "data": {
      "text/plain": [
       "   age  workclass  fnlwgt     education  education-num      marital-status  \\\n",
       "0   25    Private  226802          11th              7       Never-married   \n",
       "1   38    Private   89814       HS-grad              9  Married-civ-spouse   \n",
       "2   28  Local-gov  336951    Assoc-acdm             12  Married-civ-spouse   \n",
       "3   44    Private  160323  Some-college             10  Married-civ-spouse   \n",
       "4   18          ?  103497  Some-college             10       Never-married   \n",
       "\n",
       "          occupation relationship   race     sex  capital-gain  capital-loss  \\\n",
       "0  Machine-op-inspct    Own-child  Black    Male             0             0   \n",
       "1    Farming-fishing      Husband  White    Male             0             0   \n",
       "2    Protective-serv      Husband  White    Male             0             0   \n",
       "3  Machine-op-inspct      Husband  Black    Male          7688             0   \n",
       "4                  ?    Own-child  White  Female             0             0   \n",
       "\n",
       "   hours-per-week native-country    50K  \n",
       "0              40  United-States  <=50K  \n",
       "1              50  United-States  <=50K  \n",
       "2              40  United-States   >50K  \n",
       "3              40  United-States   >50K  \n",
       "4              30  United-States  <=50K  "
      ],
      "text/html": [
       "<div>\n",
       "<style scoped>\n",
       "    .dataframe tbody tr th:only-of-type {\n",
       "        vertical-align: middle;\n",
       "    }\n",
       "\n",
       "    .dataframe tbody tr th {\n",
       "        vertical-align: top;\n",
       "    }\n",
       "\n",
       "    .dataframe thead th {\n",
       "        text-align: right;\n",
       "    }\n",
       "</style>\n",
       "<table border=\"1\" class=\"dataframe\">\n",
       "  <thead>\n",
       "    <tr style=\"text-align: right;\">\n",
       "      <th></th>\n",
       "      <th>age</th>\n",
       "      <th>workclass</th>\n",
       "      <th>fnlwgt</th>\n",
       "      <th>education</th>\n",
       "      <th>education-num</th>\n",
       "      <th>marital-status</th>\n",
       "      <th>occupation</th>\n",
       "      <th>relationship</th>\n",
       "      <th>race</th>\n",
       "      <th>sex</th>\n",
       "      <th>capital-gain</th>\n",
       "      <th>capital-loss</th>\n",
       "      <th>hours-per-week</th>\n",
       "      <th>native-country</th>\n",
       "      <th>50K</th>\n",
       "    </tr>\n",
       "  </thead>\n",
       "  <tbody>\n",
       "    <tr>\n",
       "      <th>0</th>\n",
       "      <td>25</td>\n",
       "      <td>Private</td>\n",
       "      <td>226802</td>\n",
       "      <td>11th</td>\n",
       "      <td>7</td>\n",
       "      <td>Never-married</td>\n",
       "      <td>Machine-op-inspct</td>\n",
       "      <td>Own-child</td>\n",
       "      <td>Black</td>\n",
       "      <td>Male</td>\n",
       "      <td>0</td>\n",
       "      <td>0</td>\n",
       "      <td>40</td>\n",
       "      <td>United-States</td>\n",
       "      <td>&lt;=50K</td>\n",
       "    </tr>\n",
       "    <tr>\n",
       "      <th>1</th>\n",
       "      <td>38</td>\n",
       "      <td>Private</td>\n",
       "      <td>89814</td>\n",
       "      <td>HS-grad</td>\n",
       "      <td>9</td>\n",
       "      <td>Married-civ-spouse</td>\n",
       "      <td>Farming-fishing</td>\n",
       "      <td>Husband</td>\n",
       "      <td>White</td>\n",
       "      <td>Male</td>\n",
       "      <td>0</td>\n",
       "      <td>0</td>\n",
       "      <td>50</td>\n",
       "      <td>United-States</td>\n",
       "      <td>&lt;=50K</td>\n",
       "    </tr>\n",
       "    <tr>\n",
       "      <th>2</th>\n",
       "      <td>28</td>\n",
       "      <td>Local-gov</td>\n",
       "      <td>336951</td>\n",
       "      <td>Assoc-acdm</td>\n",
       "      <td>12</td>\n",
       "      <td>Married-civ-spouse</td>\n",
       "      <td>Protective-serv</td>\n",
       "      <td>Husband</td>\n",
       "      <td>White</td>\n",
       "      <td>Male</td>\n",
       "      <td>0</td>\n",
       "      <td>0</td>\n",
       "      <td>40</td>\n",
       "      <td>United-States</td>\n",
       "      <td>&gt;50K</td>\n",
       "    </tr>\n",
       "    <tr>\n",
       "      <th>3</th>\n",
       "      <td>44</td>\n",
       "      <td>Private</td>\n",
       "      <td>160323</td>\n",
       "      <td>Some-college</td>\n",
       "      <td>10</td>\n",
       "      <td>Married-civ-spouse</td>\n",
       "      <td>Machine-op-inspct</td>\n",
       "      <td>Husband</td>\n",
       "      <td>Black</td>\n",
       "      <td>Male</td>\n",
       "      <td>7688</td>\n",
       "      <td>0</td>\n",
       "      <td>40</td>\n",
       "      <td>United-States</td>\n",
       "      <td>&gt;50K</td>\n",
       "    </tr>\n",
       "    <tr>\n",
       "      <th>4</th>\n",
       "      <td>18</td>\n",
       "      <td>?</td>\n",
       "      <td>103497</td>\n",
       "      <td>Some-college</td>\n",
       "      <td>10</td>\n",
       "      <td>Never-married</td>\n",
       "      <td>?</td>\n",
       "      <td>Own-child</td>\n",
       "      <td>White</td>\n",
       "      <td>Female</td>\n",
       "      <td>0</td>\n",
       "      <td>0</td>\n",
       "      <td>30</td>\n",
       "      <td>United-States</td>\n",
       "      <td>&lt;=50K</td>\n",
       "    </tr>\n",
       "  </tbody>\n",
       "</table>\n",
       "</div>"
      ]
     },
     "execution_count": 7,
     "metadata": {},
     "output_type": "execute_result"
    }
   ],
   "execution_count": 7
  },
  {
   "cell_type": "markdown",
   "metadata": {},
   "source": [
    "### 用众数填补缺失值，或者可以直接删除含有缺失值的行"
   ]
  },
  {
   "cell_type": "code",
   "metadata": {
    "ExecuteTime": {
     "end_time": "2025-01-05T06:53:29.249709Z",
     "start_time": "2025-01-05T06:53:29.215771Z"
    }
   },
   "source": [
    "# 训练集补充缺失值\n",
    "mode_df = adult_data_df.mode()  # 计算每一列的众数\n",
    "for col in adult_data_df:\n",
    "    if '?' in adult_data_df[col].tolist():\n",
    "        missing_count = adult_data_df[col].value_counts()['?']   # 缺失值的个数\n",
    "        adult_data_df[col] = adult_data_df[col].replace('?', mode_df[col][0])\n",
    "        print('{} : {} 个缺失值被替换为 \"{}\"'.format(col, missing_count, mode_df[col][0]))"
   ],
   "outputs": [
    {
     "name": "stdout",
     "output_type": "stream",
     "text": [
      "workclass : 1836 个缺失值被替换为 \"Private\"\n",
      "occupation : 1843 个缺失值被替换为 \"Prof-specialty\"\n",
      "native-country : 583 个缺失值被替换为 \"United-States\"\n"
     ]
    }
   ],
   "execution_count": 8
  },
  {
   "cell_type": "code",
   "metadata": {
    "ExecuteTime": {
     "end_time": "2025-01-05T06:53:29.270239Z",
     "start_time": "2025-01-05T06:53:29.250716Z"
    }
   },
   "source": [
    "# 测试集补充缺失值\n",
    "mode_df = adult_test_df.mode()\n",
    "for col in adult_test_df:\n",
    "    if '?' in adult_test_df[col].tolist():\n",
    "        missing_count = adult_test_df[col].value_counts()['?']   # 缺失值的个数\n",
    "        adult_test_df[col] = adult_test_df[col].replace('?', mode_df[col][0])\n",
    "        print('{} : {} 个缺失值被替换为 \"{}\"'.format(col, missing_count, mode_df[col][0]))"
   ],
   "outputs": [
    {
     "name": "stdout",
     "output_type": "stream",
     "text": [
      "workclass : 963 个缺失值被替换为 \"Private\"\n",
      "occupation : 966 个缺失值被替换为 \"Prof-specialty\"\n",
      "native-country : 274 个缺失值被替换为 \"United-States\"\n"
     ]
    }
   ],
   "execution_count": 9
  },
  {
   "cell_type": "markdown",
   "metadata": {},
   "source": [
    "### 基于sklearn 的 GaussianNB"
   ]
  },
  {
   "cell_type": "code",
   "metadata": {
    "ExecuteTime": {
     "end_time": "2025-01-05T06:53:30.108802Z",
     "start_time": "2025-01-05T06:53:29.271240Z"
    }
   },
   "source": [
    "from sklearn.preprocessing import LabelEncoder\n",
    "from sklearn.naive_bayes import GaussianNB\n",
    "from sklearn.metrics import classification_report, accuracy_score\n",
    "\n",
    "# 数据编码\n",
    "def encode_features(df, columns):\n",
    "    for col in columns:\n",
    "        df[col] = LabelEncoder().fit_transform(df[col])\n",
    "    return df\n",
    "categorical_features = adult_data_df.select_dtypes(include=['object']).columns\n",
    "adult_data_df = encode_features(adult_data_df, categorical_features)\n",
    "adult_test_df = encode_features(adult_test_df, categorical_features)\n",
    "\n",
    "# 数据准备\n",
    "X_train = adult_data_df.drop('50K', axis=1)\n",
    "y_train = adult_data_df['50K']\n",
    "X_test = adult_test_df.drop('50K', axis=1)\n",
    "y_test = adult_test_df['50K']\n",
    "\n",
    "# 模型训练\n",
    "model = GaussianNB()\n",
    "model.fit(X_train, y_train)\n",
    "\n",
    "# 模型预测\n",
    "y_pred = model.predict(X_test)\n",
    "\n",
    "# 模型评估\n",
    "accuracy = accuracy_score(y_test, y_pred)\n",
    "print(f'准确率: {accuracy:.2f}')"
   ],
   "outputs": [
    {
     "name": "stdout",
     "output_type": "stream",
     "text": [
      "准确率: 0.80\n"
     ]
    }
   ],
   "execution_count": 10
  },
  {
   "cell_type": "markdown",
   "metadata": {},
   "source": [
    "### 自己构建高斯分布的朴素贝叶斯分类器"
   ]
  },
  {
   "cell_type": "markdown",
   "metadata": {},
   "source": [
    "高斯朴素贝叶斯 (Gaussian Naive Bayes):\n",
    "- 适用：连续型特征\n",
    "- 假设：连续型特征服从正态分布"
   ]
  },
  {
   "cell_type": "code",
   "metadata": {
    "ExecuteTime": {
     "end_time": "2025-01-05T06:53:30.116614Z",
     "start_time": "2025-01-05T06:53:30.109808Z"
    }
   },
   "source": [
    "class NaiveBayes:\n",
    "    def __init__(self, continuous_attrs): # 初始化时指定连续属性列表\n",
    "        self.continuous_attrs = continuous_attrs\n",
    "        self.stats_cache = {} # 缓存统计信息，作为训练结果\n",
    "\n",
    "    def fit(self, data, target_col):\n",
    "        \"\"\"\n",
    "        训练模型，缓存统计信息（均值、方差、频率）\n",
    "        \"\"\"\n",
    "        self.target_col = target_col # Y的列名，带分类的目标列名\n",
    "        for class_ in data[target_col].unique():\n",
    "            class_df = data[data[target_col] == class_]\n",
    "            # 统计每一个类别下的分布信息\n",
    "            self.stats_cache[class_] = { \n",
    "                'prior': len(class_df) / len(data), # 类别先验概率\n",
    "                'mean': class_df[self.continuous_attrs].mean(), # 连续属性的均值\n",
    "                'var': class_df[self.continuous_attrs].var(), # 连续属性的方差\n",
    "                'freq': {\n",
    "                    col: class_df[col].value_counts(normalize=True).to_dict() for col in data.columns if col not in self.continuous_attrs and col != target_col #此处代码逻辑同学们自行分析\n",
    "                } # 离散属性的频率\n",
    "            }\n",
    "\n",
    "    def probability(self, value, attr, stats):\n",
    "        \"\"\"\n",
    "        计算某个属性值的概率\n",
    "        输入：\n",
    "            value: 属性值\n",
    "            attr: 属性名\n",
    "            stats: 统计信息,来自训练结果self.stats_cache\n",
    "        输出：\n",
    "            概率值(0到1的浮点数单值)\n",
    "        实现：\n",
    "            若属性是连续型(attr在self.continuous_attrs中), 则使用高斯分布(scipy.stats.norm.pdf)计算概率\n",
    "            若属性是离散型(attr不在self.continuous_attrs中), 则直接从统计信息中获取value对应的频率并返回\n",
    "        \"\"\"\n",
    "        if attr in self.continuous_attrs:  # 连续型属性\n",
    "            mean = stats['mean'][attr]\n",
    "            var = stats['var'][attr]\n",
    "            return norm.pdf(value, loc=mean, scale=np.sqrt(var))\n",
    "        else:  # 离散型属性，对于离散型特征，直接统计频率分布，并返回相应的条件概率\n",
    "            return stats['freq'].get(attr, {}).get(value, 1e-6)\n",
    "            \n",
    "    def predict(self, sample):\n",
    "        \"\"\"\n",
    "        对一个样本进行预测\n",
    "        \"\"\"\n",
    "        max_prob = 0\n",
    "        max_class = None\n",
    "        for class_, stats in self.stats_cache.items(): # 遍历每个类别\n",
    "            prob = stats['prior']  # 类别先验概率\n",
    "            for attr, value in sample.items():\n",
    "                if attr == self.target_col:\n",
    "                    continue\n",
    "                prob *= self.probability(value, attr, stats) # 计算该类别下的联合概率\n",
    "            if prob > max_prob: # 更新最大概率和类别\n",
    "                max_prob = prob\n",
    "                max_class = class_\n",
    "        return max_class"
   ],
   "outputs": [],
   "execution_count": 11
  },
  {
   "cell_type": "markdown",
   "metadata": {},
   "source": [
    "### 模型训练"
   ]
  },
  {
   "cell_type": "code",
   "metadata": {
    "ExecuteTime": {
     "end_time": "2025-01-05T06:53:30.132145Z",
     "start_time": "2025-01-05T06:53:30.117619Z"
    }
   },
   "source": [
    "continuous_attrs = ['age', 'fnlwgt', 'education-num', 'capital-gain', 'capital-loss', 'hours-per-week'] # 连续属性集\n",
    "nb = NaiveBayes(continuous_attrs) # 初始化一个朴素贝叶斯分类器\n",
    "nb.fit(adult_data_df, '50K') # 训练模型"
   ],
   "outputs": [],
   "execution_count": 12
  },
  {
   "cell_type": "markdown",
   "metadata": {},
   "source": [
    "### 模型预测"
   ]
  },
  {
   "cell_type": "markdown",
   "metadata": {},
   "source": [
    "设置测试集的长度，调试代码时可以设置小一些，例如test_len = 100，交作业时用原长度"
   ]
  },
  {
   "cell_type": "code",
   "metadata": {
    "ExecuteTime": {
     "end_time": "2025-01-05T06:53:30.135824Z",
     "start_time": "2025-01-05T06:53:30.133152Z"
    }
   },
   "source": [
    "test_len = len(adult_test_df)"
   ],
   "outputs": [],
   "execution_count": 13
  },
  {
   "cell_type": "code",
   "metadata": {
    "ExecuteTime": {
     "end_time": "2025-01-05T06:53:40.344937Z",
     "start_time": "2025-01-05T06:53:30.136021Z"
    }
   },
   "source": [
    "test_data = adult_test_df.iloc[:test_len]\n",
    "correct_count = 0\n",
    "for i in range(len(test_data)):\n",
    "    test_sample = test_data.iloc[i].to_dict()\n",
    "    prediction = nb.predict(test_sample)\n",
    "    if prediction == test_sample['50K']:\n",
    "        correct_count += 1\n",
    "print('准确率：{:.3%}'.format(correct_count / len(test_data)))"
   ],
   "outputs": [
    {
     "name": "stdout",
     "output_type": "stream",
     "text": [
      "准确率：82.354%\n"
     ]
    }
   ],
   "execution_count": 14
  }
 ],
 "metadata": {
  "kernelspec": {
   "display_name": "exp",
   "language": "python",
   "name": "python3"
  },
  "language_info": {
   "codemirror_mode": {
    "name": "ipython",
    "version": 3
   },
   "file_extension": ".py",
   "mimetype": "text/x-python",
   "name": "python",
   "nbconvert_exporter": "python",
   "pygments_lexer": "ipython3",
   "version": "3.12.2"
  }
 },
 "nbformat": 4,
 "nbformat_minor": 2
}
