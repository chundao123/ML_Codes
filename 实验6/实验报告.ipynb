{
 "cells": [
  {
   "cell_type": "markdown",
   "metadata": {},
   "source": [
    "# **实验报告**\n",
    "* 实验目标\n",
    "* 实验流程\n",
    "* 实验结果和分析"
   ]
  },
  {
   "cell_type": "markdown",
   "metadata": {},
   "source": [
    "***\n",
    "## **实验目标**\n",
    "基于提供的框架实现对car.avi或toyyo-walk.mp4中的进行目标检测"
   ]
  },
  {
   "cell_type": "markdown",
   "metadata": {},
   "source": [
    "***\n",
    "## **实验流程**\n",
    "完成第 3 节算法框架的train函数和detect函数"
   ]
  },
  {
   "cell_type": "markdown",
   "metadata": {},
   "source": [
    "使用核岭回归，化简后的回归公式如下：$$ \\hat α = \\frac{\\hat y}{\\hat {k_{xx}} + \\lambda} $$\n",
    "train函数实现如下：（其中k_{xx}的实现由提供代码中的kernel_correlation实现）"
   ]
  },
  {
   "cell_type": "code",
   "execution_count": 85,
   "metadata": {},
   "outputs": [],
   "source": [
    "import numpy as np\n",
    "from numpy.fft import fft2, ifft2, fftshift\n",
    "from numpy import conj, real\n",
    "\n",
    "def train(self, x, y, sigma, lambdar):\n",
    "    #返回w_hat\n",
    "    # TODO：实现回归求解的代码，返回 W_hat\n",
    "    k = self.kernel_correlation(x, x, sigma)\n",
    "    return fft2(y) / (fft2(k) + lambdar)\n",
    "    raise NotImplementedError(\"此部分需要同学们⾃⾏实现。\")"
   ]
  },
  {
   "cell_type": "markdown",
   "metadata": {},
   "source": [
    "同样的detect也是用核岭回归方法：$$ α = F^{-1}(\\hat α \\odot \\hat z) $$\n",
    "detect函数实现如下："
   ]
  },
  {
   "cell_type": "code",
   "execution_count": 86,
   "metadata": {},
   "outputs": [],
   "source": [
    "def detect(self, alphaf, x, z, sigma):\n",
    "    # TODO:实现⽬标在新帧中检测的代码，返回 f(z)\n",
    "    k = self.kernel_correlation(x, z, sigma)\n",
    "    return real(ifft2(self.alphaf * fft2(k)))\n",
    "    raise NotImplementedError(\"此部分需要同学们⾃⾏实现。\")"
   ]
  },
  {
   "cell_type": "markdown",
   "metadata": {},
   "source": [
    "***\n",
    "## **实验结果和分析**\n",
    "对car.avi的识别跟踪效果不错，但是对tokyo-walk.mp4的效果一般，在人物走进后容易识别不到对象接而退出"
   ]
  }
 ],
 "metadata": {
  "kernelspec": {
   "display_name": "Beyas",
   "language": "python",
   "name": "python3"
  },
  "language_info": {
   "codemirror_mode": {
    "name": "ipython",
    "version": 3
   },
   "file_extension": ".py",
   "mimetype": "text/x-python",
   "name": "python",
   "nbconvert_exporter": "python",
   "pygments_lexer": "ipython3",
   "version": "3.12.3"
  }
 },
 "nbformat": 4,
 "nbformat_minor": 2
}
