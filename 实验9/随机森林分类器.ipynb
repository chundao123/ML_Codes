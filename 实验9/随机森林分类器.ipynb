{
 "cells": [
  {
   "metadata": {},
   "cell_type": "markdown",
   "source": "# 决策树手动实现",
   "id": "94b7efd7344b99c7"
  },
  {
   "metadata": {
    "ExecuteTime": {
     "end_time": "2024-11-23T08:48:18.380245Z",
     "start_time": "2024-11-23T08:48:18.376243Z"
    }
   },
   "cell_type": "code",
   "source": [
    "#导入必要的库\n",
    "import numpy as np\n",
    "import pandas as pd\n",
    "from sklearn_pandas import DataFrameMapper\n",
    "from sklearn.preprocessing import LabelEncoder"
   ],
   "id": "initial_id",
   "outputs": [],
   "execution_count": 112
  },
  {
   "metadata": {},
   "cell_type": "markdown",
   "source": "## 数据集导入和处理",
   "id": "f8be42b657ce295"
  },
  {
   "metadata": {
    "ExecuteTime": {
     "end_time": "2024-11-23T08:48:18.495923Z",
     "start_time": "2024-11-23T08:48:18.414653Z"
    }
   },
   "cell_type": "code",
   "source": [
    "# 读取数据集\n",
    "feature_names = ['Age','Workclass','fnlgwt','Education','EdNum','MaritalStatus','Occupation','Relationship','Race','Sex','CapitalGain','CapitalLoss','HoursPerWeek','Country','Income']\n",
    "\n",
    "train = pd.read_csv('adult.data', names=feature_names)\n",
    "test = pd.read_csv('adult.test', names=feature_names, skiprows=1)"
   ],
   "id": "251268b6d6be7e37",
   "outputs": [],
   "execution_count": 113
  },
  {
   "metadata": {
    "ExecuteTime": {
     "end_time": "2024-11-23T08:48:19.842368Z",
     "start_time": "2024-11-23T08:48:18.496958Z"
    }
   },
   "cell_type": "code",
   "source": [
    "# 数据删除与清洗\n",
    "train.drop('fnlgwt', axis=1, inplace=True)\n",
    "test.drop('fnlgwt', axis=1, inplace=True)\n",
    "\n",
    "for i in train.columns:\n",
    "    train[i].replace('?', 'Unknown', inplace=True)\n",
    "    test[i].replace('?', 'Unknown', inplace=True)\n",
    "    \n",
    "    for col in train.columns:\n",
    "        if train[col].dtype != 'int64':\n",
    "           train[col] = train[col].apply(lambda val: val.replace(\" \", \"\"))\n",
    "           train[col] = train[col].apply(lambda val: val.replace(\".\", \"\"))\n",
    "           test[col] = test[col].apply(lambda val: val.replace(\" \", \"\"))\n",
    "           test[col] = test[col].apply(lambda val: val.replace(\".\", \"\"))\n",
    "\n",
    "train.drop([\"Country\", \"Education\"], axis=1, inplace=True)\n",
    "test.drop([\"Country\", \"Education\"], axis=1, inplace=True)"
   ],
   "id": "5714aefc54577614",
   "outputs": [
    {
     "name": "stderr",
     "output_type": "stream",
     "text": [
      "C:\\Users\\hjhzjbs\\AppData\\Local\\Temp\\ipykernel_8700\\1592468102.py:6: FutureWarning: A value is trying to be set on a copy of a DataFrame or Series through chained assignment using an inplace method.\n",
      "The behavior will change in pandas 3.0. This inplace method will never work because the intermediate object on which we are setting values always behaves as a copy.\n",
      "\n",
      "For example, when doing 'df[col].method(value, inplace=True)', try using 'df.method({col: value}, inplace=True)' or df[col] = df[col].method(value) instead, to perform the operation inplace on the original object.\n",
      "\n",
      "\n",
      "  train[i].replace('?', 'Unknown', inplace=True)\n",
      "C:\\Users\\hjhzjbs\\AppData\\Local\\Temp\\ipykernel_8700\\1592468102.py:7: FutureWarning: A value is trying to be set on a copy of a DataFrame or Series through chained assignment using an inplace method.\n",
      "The behavior will change in pandas 3.0. This inplace method will never work because the intermediate object on which we are setting values always behaves as a copy.\n",
      "\n",
      "For example, when doing 'df[col].method(value, inplace=True)', try using 'df.method({col: value}, inplace=True)' or df[col] = df[col].method(value) instead, to perform the operation inplace on the original object.\n",
      "\n",
      "\n",
      "  test[i].replace('?', 'Unknown', inplace=True)\n"
     ]
    }
   ],
   "execution_count": 114
  },
  {
   "metadata": {
    "ExecuteTime": {
     "end_time": "2024-11-23T08:48:19.860794Z",
     "start_time": "2024-11-23T08:48:19.843374Z"
    }
   },
   "cell_type": "code",
   "source": [
    "# 数据转化\n",
    "colnames = list(train.columns)\t\n",
    "colnames.remove('Age')\n",
    "colnames.remove('EdNum')\n",
    "colnames = ['AgeGroup', 'EduGroup']+colnames\n",
    "\n",
    "labels = [\"{0}-{1}\".format(i, i+9) for i in range(0,100,10)]\n",
    "\n",
    "train['AgeGroup'] = pd.cut(train.Age, range(0,101,10), right = False, labels = \tlabels) \n",
    "test['AgeGroup'] = pd.cut(test.Age, range(0,101,10), right = False, labels = \tlabels) \n",
    "\n",
    "labels = [\"{0}-{1}\".format(i,i+4) for i in range(0,20,5)]    \n",
    "train['EduGroup'] = pd.cut(train.EdNum, range(0,21,5), right = False, labels = \tlabels)   \n",
    "test['EduGroup'] = pd.cut(test.EdNum, range(0,21,5), right = False, labels = \tlabels)\n",
    "\n",
    "df_train_set = train[colnames] \n",
    "df_test_set = test[colnames]"
   ],
   "id": "1c1d3c320547855c",
   "outputs": [],
   "execution_count": 115
  },
  {
   "metadata": {
    "ExecuteTime": {
     "end_time": "2024-11-23T08:48:19.934917Z",
     "start_time": "2024-11-23T08:48:19.861840Z"
    }
   },
   "cell_type": "code",
   "source": [
    "# 重点部分\n",
    "mapper = DataFrameMapper([('AgeGroup', LabelEncoder()),('EduGroup', LabelEncoder()),\n",
    "                          ('Workclass', LabelEncoder()),('MaritalStatus', \t\t\t \t\t\t\t\t\t\t\tLabelEncoder()),\n",
    "                          ('Occupation', LabelEncoder()),('Relationship', \t\t\t\t\t\t\t\t\t\t\tLabelEncoder()),\n",
    "                          ('Race', LabelEncoder()),('Sex', LabelEncoder()),\n",
    "                          ('Income', LabelEncoder())], df_out=True, default=None)\n",
    "\n",
    "cols = list(df_train_set.columns)\n",
    "cols.remove('Income')\n",
    "cols = cols[:-3]+['Income']+cols[-3:] \n",
    "\n",
    "df_train = mapper.fit_transform(df_train_set.copy())\n",
    "df_train.columns = cols\n",
    "df_test = mapper.transform(df_test_set.copy())\n",
    "df_test.columns = cols\n",
    "cols.remove('Income')\n",
    "\n",
    "x_train, y_train = df_train[cols].values, df_train['Income'].values\n",
    "x_test, y_test = df_test[cols].values, df_test['Income'].values"
   ],
   "id": "f0c91030f555d6fd",
   "outputs": [],
   "execution_count": 116
  },
  {
   "metadata": {},
   "cell_type": "markdown",
   "source": "## 决策树构建",
   "id": "10a2bb2115fe91c9"
  },
  {
   "metadata": {
    "ExecuteTime": {
     "end_time": "2024-11-23T08:48:19.944037Z",
     "start_time": "2024-11-23T08:48:19.935922Z"
    }
   },
   "cell_type": "code",
   "source": [
    "# 计算信息熵\n",
    "def calculate_entropy(labels):\n",
    "    label_probabilities = np.unique(labels, return_counts=True)[1] / len(labels)\n",
    "    ent = -np.sum(label_probabilities * np.log2(label_probabilities))               \n",
    "        \n",
    "    return ent\n",
    "\n",
    "# 计算信息增益(ID3)\n",
    "def ID3(data, labels, feature):\n",
    "    total_entropy = calculate_entropy(labels)\n",
    "    values, counts = np.unique(data[feature], return_counts=True)\n",
    "    weights = counts / len(data)\n",
    "    conditional_entropy = 0\n",
    "    \n",
    "    for value, weight in zip(values, weights):\n",
    "        sub_labels = labels[data[feature] == value]\n",
    "        conditional_entropy += weight * calculate_entropy(sub_labels)\n",
    "        \n",
    "    gain = total_entropy - conditional_entropy\n",
    "    # print(\"ID3:\", feature, gain)\n",
    "    return gain\n",
    "\n",
    "# 计算信息增益率(C4.5)\n",
    "def C45(data, labels, feature):\n",
    "    total_entropy = calculate_entropy(labels)\n",
    "    values, counts = np.unique(data[feature], return_counts=True)\n",
    "    weights = counts / len(data)\n",
    "    conditional_entropy = 0\n",
    "    split_info = 0\n",
    "    \n",
    "    for value, weight in zip(values, weights):\n",
    "        sub_labels = labels[data[feature] == value]\n",
    "        conditional_entropy += weight * calculate_entropy(sub_labels)\n",
    "        split_info -= weight * np.log2(weight)\n",
    "        \n",
    "    gain_ratio = (total_entropy - conditional_entropy) / split_info\n",
    "    # print(\"C45\", feature, gain_ratio)\n",
    "    return gain_ratio\n",
    "\n",
    "# 计算基尼指数(CART)\n",
    "def CART(data, labels, feature):\n",
    "    values, counts = np.unique(data[feature], return_counts=True)\n",
    "    weights = counts / len(data[feature])\n",
    "    gini_index = 0\n",
    "    \n",
    "    for value, weight in zip(values, weights):\n",
    "        sub_labels = labels[data[feature] == value]\n",
    "        sub_label_probabilities = np.unique(sub_labels, return_counts=True)[1] / len(sub_labels)\n",
    "        gini = 1 - np.sum(np.square(sub_label_probabilities))\n",
    "        gini_index += weight * gini\n",
    "    \n",
    "    # print(\"CART\", feature, gini_index)\n",
    "    return 1 - gini_index               # 基尼指数越小越有利于分类\n",
    "\n",
    "# 选择最佳特征\n",
    "def choose_best_feature(data, labels, features, method=ID3):\n",
    "    best_feature = features[0]\n",
    "    best_score = 0\n",
    "    \n",
    "    for feature in features:\n",
    "        score = method(data, labels, feature)\n",
    "        if score > best_score:\n",
    "            best_feature, best_score = feature, score\n",
    "\n",
    "    return best_feature\n",
    "\n",
    "# 构建决策树\n",
    "def build_decision_tree(data, labels, features, depth=0, max_depth=10, method=ID3):\n",
    "    if len(np.unique(labels)) == 1 or depth == max_depth or len(features) == 0:\n",
    "        return np.unique(labels)[0]\n",
    "    \n",
    "    best_feature = choose_best_feature(data, labels, features, method)\n",
    "    tree = {best_feature: {}}\n",
    "    new_features = [i for i in features if i != best_feature]\n",
    "    \n",
    "    # print(\"Features:\", features)\n",
    "    # print(\"Best feature:\", best_feature)\n",
    "    for value in np.unique(data[best_feature]):\n",
    "        # print(\"Value:\", value)\n",
    "        sub_data = data[data[best_feature] == value]\n",
    "        sub_labels = labels[data[best_feature] == value]\n",
    "        tree[best_feature][value] = build_decision_tree(sub_data, sub_labels, new_features, depth + 1, max_depth, method)\n",
    "    \n",
    "    return tree"
   ],
   "id": "38e7ea97b807787f",
   "outputs": [],
   "execution_count": 117
  },
  {
   "metadata": {},
   "cell_type": "markdown",
   "source": "## 训练、预测和可视化",
   "id": "cecc60dbb74e8590"
  },
  {
   "metadata": {
    "ExecuteTime": {
     "end_time": "2024-11-23T08:48:19.948440Z",
     "start_time": "2024-11-23T08:48:19.945046Z"
    }
   },
   "cell_type": "code",
   "source": [
    "x_train = pd.DataFrame(x_train)\n",
    "x_test = pd.DataFrame(x_test)"
   ],
   "id": "4cd5dff748c6cd5d",
   "outputs": [],
   "execution_count": 118
  },
  {
   "metadata": {
    "ExecuteTime": {
     "end_time": "2024-11-23T08:48:32.406865Z",
     "start_time": "2024-11-23T08:48:19.949250Z"
    }
   },
   "cell_type": "code",
   "source": [
    "# 训练\n",
    "tree_ID3 = build_decision_tree(x_train, y_train, list(x_train.columns), depth=0, max_depth=10, method=ID3)\n",
    "tree_C45 = build_decision_tree(x_train, y_train, list(x_train.columns), depth=0, max_depth=10, method=C45)\n",
    "tree_CART = build_decision_tree(x_train, y_train, list(x_train.columns), depth=0, max_depth=10, method=CART)"
   ],
   "id": "b2caad729499a3a6",
   "outputs": [
    {
     "name": "stderr",
     "output_type": "stream",
     "text": [
      "C:\\Users\\hjhzjbs\\AppData\\Local\\Temp\\ipykernel_8700\\3192276464.py:36: RuntimeWarning: invalid value encountered in scalar divide\n",
      "  gain_ratio = (total_entropy - conditional_entropy) / split_info\n"
     ]
    }
   ],
   "execution_count": 119
  },
  {
   "metadata": {
    "ExecuteTime": {
     "end_time": "2024-11-23T08:48:32.539911Z",
     "start_time": "2024-11-23T08:48:32.407907Z"
    }
   },
   "cell_type": "code",
   "source": [
    "# 预测\n",
    "def predict(tree, sample):\n",
    "    if not isinstance(tree, dict):\n",
    "        return tree\n",
    "    \n",
    "    feature = list(tree.keys())[0]\n",
    "    value = sample[feature]\n",
    "    \n",
    "    if value in tree[feature]:\n",
    "        subtree = tree[feature][value]\n",
    "        return predict(subtree, sample)\n",
    "\n",
    "    else:\n",
    "        return \"Not Found\"\n",
    "    \n",
    "def calculate_accuracy(predictions, labels):\n",
    "    return np.mean([predictions[i] == labels[i] for i in range(len(predictions))])\n",
    "\n",
    "predictions_ID3 = [predict(tree_ID3, sample) for sample in x_test.values]\n",
    "print(f'Accuracy of ID3 tree: {calculate_accuracy(predictions_ID3, y_test):.10f}')\n",
    "\n",
    "predictions_C45 = [predict(tree_C45, sample) for sample in x_test.values]\n",
    "print(f'Accuracy of C45 tree: {calculate_accuracy(predictions_C45, y_test):.10f}')\n",
    "\n",
    "predictions_CART = [predict(tree_CART, sample) for sample in x_test.values]\n",
    "print(f'Accuracy of CART tree: {calculate_accuracy(predictions_CART, y_test):.10f}')"
   ],
   "id": "d9bbf09f87a801d5",
   "outputs": [
    {
     "name": "stdout",
     "output_type": "stream",
     "text": [
      "Accuracy of ID3 tree: 0.7659705160\n",
      "Accuracy of C45 tree: 0.7725429975\n",
      "Accuracy of CART tree: 0.7630221130\n"
     ]
    }
   ],
   "execution_count": 120
  },
  {
   "metadata": {},
   "cell_type": "markdown",
   "source": "# 进一步实现随机森林分类器(Bagging)",
   "id": "bb6c1ed6a1d96e4b"
  },
  {
   "metadata": {},
   "cell_type": "markdown",
   "source": "## 随机森林构建",
   "id": "dd52d950d51b8b3"
  },
  {
   "metadata": {
    "ExecuteTime": {
     "end_time": "2024-11-23T08:48:32.545147Z",
     "start_time": "2024-11-23T08:48:32.540922Z"
    }
   },
   "cell_type": "code",
   "source": [
    "# 随机采样生成训练样本\n",
    "def bootstrap_sample(data, labels, sample_num, feature_num):\n",
    "    # 有放回随机采样\n",
    "    sample_indices = np.random.choice(data.shape[0], sample_num, replace=True)\n",
    "    data_sample = data.iloc[sample_indices]\n",
    "    label_sample = labels[sample_indices]\n",
    "    \n",
    "    # 裁切样本\n",
    "    feature_indices = np.random.choice(data.shape[1], feature_num, replace=False)\n",
    "    data_sample = data_sample.iloc[:, feature_indices]\n",
    "    \n",
    "    return data_sample, label_sample\n",
    "\n",
    "# 随机森林训练\n",
    "def build_random_forest(data, labels, sample_num, feature_num, forest_size, max_depth=10, method=ID3):\n",
    "    forest = []\n",
    "    for i in range(forest_size):\n",
    "        data_sample, label_sample = bootstrap_sample(data, labels, sample_num, feature_num)\n",
    "        tree = build_decision_tree(data_sample, label_sample, list(data_sample.columns), max_depth=max_depth, method=method)\n",
    "        forest.append(tree)\n",
    "        \n",
    "    return forest"
   ],
   "id": "4d6fe27cc78bad1a",
   "outputs": [],
   "execution_count": 121
  },
  {
   "metadata": {
    "ExecuteTime": {
     "end_time": "2024-11-23T08:48:36.914498Z",
     "start_time": "2024-11-23T08:48:32.547172Z"
    }
   },
   "cell_type": "code",
   "source": [
    "# 训练\n",
    "sample_num = 200\n",
    "feature_num = int(np.sqrt(len(x_train.columns)))\n",
    "forest_size = 100\n",
    "\n",
    "forest_ID3 = build_random_forest(x_train, y_train, sample_num, feature_num, forest_size, max_depth=10, method=ID3)\n",
    "forest_C45 = build_random_forest(x_train, y_train, sample_num, feature_num, forest_size, max_depth=10, method=C45)\n",
    "forest_CART = build_random_forest(x_train, y_train, sample_num, feature_num, forest_size, max_depth=10, method=CART)"
   ],
   "id": "b178215825a55c19",
   "outputs": [
    {
     "name": "stderr",
     "output_type": "stream",
     "text": [
      "C:\\Users\\hjhzjbs\\AppData\\Local\\Temp\\ipykernel_8700\\3192276464.py:36: RuntimeWarning: invalid value encountered in scalar divide\n",
      "  gain_ratio = (total_entropy - conditional_entropy) / split_info\n"
     ]
    }
   ],
   "execution_count": 122
  },
  {
   "metadata": {
    "ExecuteTime": {
     "end_time": "2024-11-23T08:48:41.276819Z",
     "start_time": "2024-11-23T08:48:36.915627Z"
    }
   },
   "cell_type": "code",
   "source": [
    "# 相对多数投票聚合预测器\n",
    "from collections import Counter\n",
    "def ramdom_forest_predict(forest, sample):\n",
    "    predictions = [predict(tree, sample) for tree in forest]\n",
    "    aggregating_predictions = Counter(predictions).most_common()[0][0]\n",
    "    \n",
    "    return aggregating_predictions\n",
    "\n",
    "predictions_forest_ID3 = [ramdom_forest_predict(forest_ID3, sample) for sample in x_test.values]\n",
    "print(f'Accuracy of ID3 forest: {calculate_accuracy(predictions_forest_ID3, y_test):.10f}')\n",
    "\n",
    "predictions_forest_C45 = [ramdom_forest_predict(forest_C45, sample) for sample in x_test.values]\n",
    "print(f'Accuracy of C45 forest: {calculate_accuracy(predictions_forest_C45, y_test):.10f}')\n",
    "\n",
    "predictions_forest_CART = [ramdom_forest_predict(forest_CART, sample) for sample in x_test.values]\n",
    "print(f'Accuracy of CART forest: {calculate_accuracy(predictions_forest_CART, y_test):.10f}')"
   ],
   "id": "3c28ea9ca2ac6132",
   "outputs": [
    {
     "name": "stdout",
     "output_type": "stream",
     "text": [
      "Accuracy of ID3 forest: 0.7636977887\n",
      "Accuracy of C45 forest: 0.7618550369\n",
      "Accuracy of CART forest: 0.7635135135\n"
     ]
    }
   ],
   "execution_count": 123
  },
  {
   "metadata": {},
   "cell_type": "markdown",
   "source": "# 探究基学习器数量和随机属性选取数量对随机森林的影响（以ID3算法为例）",
   "id": "bbcbfb4fa8b42006"
  },
  {
   "metadata": {
    "ExecuteTime": {
     "end_time": "2024-11-23T08:49:42.388115Z",
     "start_time": "2024-11-23T08:48:41.277852Z"
    }
   },
   "cell_type": "code",
   "source": [
    "sample_num = 200\n",
    "feature_num = int(np.sqrt(len(x_train.columns)))\n",
    "forest_sizes = [1,2,3,4] + [5*(i+1) for i in range(20)]\n",
    "\n",
    "accuracies1 = []\n",
    "accuracies2 = []\n",
    "\n",
    "for forest_size in forest_sizes:\n",
    "    forest = build_random_forest(x_train, y_train, sample_num, feature_num, forest_size, max_depth=10, method=ID3)\n",
    "    predictions = [ramdom_forest_predict(forest, sample) for sample in x_test.values]\n",
    "    accuracy = calculate_accuracy(predictions, y_test)\n",
    "    accuracies1.append(accuracy)\n",
    "    print(f'Accuracy when feature_num is {feature_num}, forest_size is {forest_size}: {accuracy}')\n",
    "   \n",
    "feature_num = int(np.log2(len(x_train.columns)))    \n",
    "for forest_size in forest_sizes:\n",
    "    forest = build_random_forest(x_train, y_train, sample_num, feature_num, forest_size, max_depth=10, method=ID3)\n",
    "    predictions = [ramdom_forest_predict(forest, sample) for sample in x_test.values]\n",
    "    accuracy = calculate_accuracy(predictions, y_test)\n",
    "    accuracies2.append(accuracy)\n",
    "    print(f'Accuracy when feature_num is {feature_num}, forest_size is {forest_size}: {accuracy}')"
   ],
   "id": "5b76157db93a4f96",
   "outputs": [
    {
     "name": "stdout",
     "output_type": "stream",
     "text": [
      "Accuracy when feature_num is 3, forest_size is 1: 0.7707616707616708\n",
      "Accuracy when feature_num is 3, forest_size is 2: 0.65\n",
      "Accuracy when feature_num is 3, forest_size is 3: 0.750061425061425\n",
      "Accuracy when feature_num is 3, forest_size is 4: 0.7554668304668305\n",
      "Accuracy when feature_num is 3, forest_size is 5: 0.7758599508599509\n",
      "Accuracy when feature_num is 3, forest_size is 10: 0.7643120393120393\n",
      "Accuracy when feature_num is 3, forest_size is 15: 0.7381449631449631\n",
      "Accuracy when feature_num is 3, forest_size is 20: 0.7627149877149877\n",
      "Accuracy when feature_num is 3, forest_size is 25: 0.7635749385749385\n",
      "Accuracy when feature_num is 3, forest_size is 30: 0.7618550368550369\n",
      "Accuracy when feature_num is 3, forest_size is 35: 0.7623464373464374\n",
      "Accuracy when feature_num is 3, forest_size is 40: 0.7646191646191646\n",
      "Accuracy when feature_num is 3, forest_size is 45: 0.7641277641277642\n",
      "Accuracy when feature_num is 3, forest_size is 50: 0.7636977886977887\n",
      "Accuracy when feature_num is 3, forest_size is 55: 0.7621007371007371\n",
      "Accuracy when feature_num is 3, forest_size is 60: 0.7627149877149877\n",
      "Accuracy when feature_num is 3, forest_size is 65: 0.7628378378378379\n",
      "Accuracy when feature_num is 3, forest_size is 70: 0.7627764127764127\n",
      "Accuracy when feature_num is 3, forest_size is 75: 0.7631449631449632\n",
      "Accuracy when feature_num is 3, forest_size is 80: 0.7632063882063882\n",
      "Accuracy when feature_num is 3, forest_size is 85: 0.7629606879606879\n",
      "Accuracy when feature_num is 3, forest_size is 90: 0.7635135135135135\n",
      "Accuracy when feature_num is 3, forest_size is 95: 0.7628378378378379\n",
      "Accuracy when feature_num is 3, forest_size is 100: 0.7641277641277642\n",
      "Accuracy when feature_num is 3, forest_size is 1: 0.6574938574938575\n",
      "Accuracy when feature_num is 3, forest_size is 2: 0.6096437346437347\n",
      "Accuracy when feature_num is 3, forest_size is 3: 0.721928746928747\n",
      "Accuracy when feature_num is 3, forest_size is 4: 0.755958230958231\n",
      "Accuracy when feature_num is 3, forest_size is 5: 0.7438574938574939\n",
      "Accuracy when feature_num is 3, forest_size is 10: 0.7638206388206388\n",
      "Accuracy when feature_num is 3, forest_size is 15: 0.7635749385749385\n",
      "Accuracy when feature_num is 3, forest_size is 20: 0.763943488943489\n",
      "Accuracy when feature_num is 3, forest_size is 25: 0.7634520884520885\n",
      "Accuracy when feature_num is 3, forest_size is 30: 0.7602579852579853\n",
      "Accuracy when feature_num is 3, forest_size is 35: 0.7653562653562653\n",
      "Accuracy when feature_num is 3, forest_size is 40: 0.7647420147420148\n",
      "Accuracy when feature_num is 3, forest_size is 45: 0.7643734643734644\n",
      "Accuracy when feature_num is 3, forest_size is 50: 0.7631449631449632\n",
      "Accuracy when feature_num is 3, forest_size is 55: 0.7627149877149877\n",
      "Accuracy when feature_num is 3, forest_size is 60: 0.7627764127764127\n",
      "Accuracy when feature_num is 3, forest_size is 65: 0.7633906633906634\n",
      "Accuracy when feature_num is 3, forest_size is 70: 0.7629606879606879\n",
      "Accuracy when feature_num is 3, forest_size is 75: 0.7631449631449632\n",
      "Accuracy when feature_num is 3, forest_size is 80: 0.7631449631449632\n",
      "Accuracy when feature_num is 3, forest_size is 85: 0.7633906633906634\n",
      "Accuracy when feature_num is 3, forest_size is 90: 0.7632678132678132\n",
      "Accuracy when feature_num is 3, forest_size is 95: 0.7633906633906634\n",
      "Accuracy when feature_num is 3, forest_size is 100: 0.7624078624078624\n"
     ]
    }
   ],
   "execution_count": 124
  },
  {
   "metadata": {
    "ExecuteTime": {
     "end_time": "2024-11-23T08:49:42.466082Z",
     "start_time": "2024-11-23T08:49:42.389146Z"
    }
   },
   "cell_type": "code",
   "source": [
    "# 可视化结果\n",
    "import matplotlib.pyplot as plt\n",
    "\n",
    "plt.figure(figsize=(10, 6))\n",
    "plt.plot(forest_sizes, accuracies1, marker='o', linestyle='-', color='b')\n",
    "plt.plot(forest_sizes, accuracies2, marker='o', linestyle='--', color='r')\n",
    "plt.xlabel('Number of Estimators')\n",
    "plt.ylabel('Accuracy')\n",
    "plt.legend(['sqrt','log2'])\n",
    "plt.grid(True)\n",
    "plt.show()"
   ],
   "id": "f3657cbb8bd75d32",
   "outputs": [
    {
     "data": {
      "text/plain": [
       "<Figure size 1000x600 with 1 Axes>"
      ],
      "image/png": "[encoded data removed]"
     },
     "metadata": {},
     "output_type": "display_data"
    }
   ],
   "execution_count": 125
  },
  {
   "metadata": {
    "ExecuteTime": {
     "end_time": "2024-11-23T08:49:42.468570Z",
     "start_time": "2024-11-23T08:49:42.466082Z"
    }
   },
   "cell_type": "code",
   "source": "",
   "id": "ec02c64b3e8737c8",
   "outputs": [],
   "execution_count": 125
  }
 ],
 "metadata": {
  "kernelspec": {
   "display_name": "Python 3",
   "language": "python",
   "name": "python3"
  },
  "language_info": {
   "codemirror_mode": {
    "name": "ipython",
    "version": 2
   },
   "file_extension": ".py",
   "mimetype": "text/x-python",
   "name": "python",
   "nbconvert_exporter": "python",
   "pygments_lexer": "ipython2",
   "version": "2.7.6"
  }
 },
 "nbformat": 4,
 "nbformat_minor": 5
}
